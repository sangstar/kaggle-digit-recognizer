{
 "cells": [
  {
   "cell_type": "code",
   "execution_count": 1,
   "metadata": {},
   "outputs": [],
   "source": [
    "import tensorflow as tf\n",
    "from tensorflow import keras\n",
    "import matplotlib.pyplot as plt\n",
    "import csv\n",
    "import numpy as np\n",
    "import pandas as pd\n"
   ]
  },
  {
   "cell_type": "markdown",
   "metadata": {},
   "source": [
    "# Open data and arrange them in the correct way\n",
    "\n",
    "For model.fit(), I want a list of numpy arrays of shape 28,28,1 (as the total pixels per digit is 28 * 28) for my x data, pertaining to each training digit, and a numpy array that displays which image pertains to which digit. "
   ]
  },
  {
   "cell_type": "code",
   "execution_count": 2,
   "metadata": {},
   "outputs": [],
   "source": [
    "with open('train.csv') as f:\n",
    "    reader = csv.reader(f)\n",
    "    contents = list(reader)\n",
    "df = pd.read_csv('train.csv')\n",
    "\n",
    "labels = df['label'].values\n",
    "\n",
    "numbers = []\n",
    "shape = np.shape(contents)\n",
    "num_inputs = shape[1]\n",
    "num_samples = shape[0]\n",
    "for i in np.arange(1,num_samples):\n",
    "    pixels = contents[i][1:]\n",
    "    pixels = np.array(pixels, dtype = int)\n",
    "    pixels = np.reshape(pixels, (28,28,1))\n",
    "    pixels = pixels / 255\n",
    "    numbers.append(pixels)\n",
    "numbers = np.array(numbers)"
   ]
  },
  {
   "cell_type": "markdown",
   "metadata": {},
   "source": [
    "# Arrange test data"
   ]
  },
  {
   "cell_type": "code",
   "execution_count": 3,
   "metadata": {},
   "outputs": [],
   "source": [
    "with open('test.csv') as f:\n",
    "    reader = csv.reader(f)\n",
    "    test_contents = list(reader)"
   ]
  },
  {
   "cell_type": "code",
   "execution_count": 4,
   "metadata": {},
   "outputs": [],
   "source": [
    "test_numbers = []\n",
    "test_shape = np.shape(test_contents)\n",
    "num_inputs = test_shape[1]\n",
    "num_samples = test_shape[0]\n",
    "for i in np.arange(1,num_samples):\n",
    "    pixels = test_contents[i]\n",
    "    pixels = np.array(pixels, dtype = int)\n",
    "    pixels = np.reshape(pixels, (28,28,1))\n",
    "    pixels = pixels / 255\n",
    "    test_numbers.append(pixels)\n",
    "test_numbers = np.array(test_numbers)"
   ]
  },
  {
   "cell_type": "markdown",
   "metadata": {},
   "source": [
    "I chose the following formula for the number of neurons in the hidden layer. This was based off of some rudimentary Googling and seeing if the number did a reasonable job. There's not an entirely clear consensus on how many neurons one should have in their hidden layer, but a good resource for more info is here: https://stats.stackexchange.com/questions/181/how-to-choose-the-number-of-hidden-layers-and-nodes-in-a-feedforward-neural-netw"
   ]
  },
  {
   "cell_type": "code",
   "execution_count": 5,
   "metadata": {},
   "outputs": [],
   "source": [
    "num_hidden_layer = round(2/3 * num_inputs + 10)"
   ]
  },
  {
   "cell_type": "markdown",
   "metadata": {},
   "source": [
    "# Model assembly\n",
    "I chose for my model to have a convolutional layer, and a max pooling layer -- nothing particularly extraordinary. I figured one convolution would be sufficient (I didn't want the fitting to take forever and I wanted to avoid overfitting), and I chose 32 filters arbitrarily. "
   ]
  },
  {
   "cell_type": "code",
   "execution_count": 6,
   "metadata": {},
   "outputs": [],
   "source": [
    "model = tf.keras.models.Sequential([\n",
    "    tf.keras.layers.Conv2D(32, (3,3), activation='relu', input_shape=(28, 28, 1)),\n",
    "    tf.keras.layers.MaxPooling2D(pool_size=(2,2)),\n",
    "    tf.keras.layers.Flatten(),\n",
    "    tf.keras.layers.Dense(num_hidden_layer, activation = 'relu'),\n",
    "    tf.keras.layers.Dense(10, activation = 'softmax')\n",
    "])"
   ]
  },
  {
   "cell_type": "code",
   "execution_count": 7,
   "metadata": {},
   "outputs": [
    {
     "name": "stdout",
     "output_type": "stream",
     "text": [
      "Model: \"sequential\"\n",
      "_________________________________________________________________\n",
      "Layer (type)                 Output Shape              Param #   \n",
      "=================================================================\n",
      "conv2d (Conv2D)              (None, 26, 26, 32)        320       \n",
      "_________________________________________________________________\n",
      "max_pooling2d (MaxPooling2D) (None, 13, 13, 32)        0         \n",
      "_________________________________________________________________\n",
      "flatten (Flatten)            (None, 5408)              0         \n",
      "_________________________________________________________________\n",
      "dense (Dense)                (None, 533)               2882997   \n",
      "_________________________________________________________________\n",
      "dense_1 (Dense)              (None, 10)                5340      \n",
      "=================================================================\n",
      "Total params: 2,888,657\n",
      "Trainable params: 2,888,657\n",
      "Non-trainable params: 0\n",
      "_________________________________________________________________\n"
     ]
    }
   ],
   "source": [
    "model.summary()"
   ]
  },
  {
   "cell_type": "markdown",
   "metadata": {},
   "source": [
    "# Compiling the model\n",
    "I chose Adam because I think it's a great optimizer generally for a large range of datasets and was suitable here. I chose sparse categorical crossentropy for my loss function because I have integer targets. Not really sure why to use categorical crossentropy in general besides it being a popular loss function for classification problems like these. "
   ]
  },
  {
   "cell_type": "code",
   "execution_count": 8,
   "metadata": {},
   "outputs": [],
   "source": [
    "model.compile(optimizer = 'adam',\n",
    "              loss = 'sparse_categorical_crossentropy',\n",
    "              metrics=['accuracy'])\n",
    "\n"
   ]
  },
  {
   "cell_type": "code",
   "execution_count": 9,
   "metadata": {},
   "outputs": [
    {
     "name": "stdout",
     "output_type": "stream",
     "text": [
      "Epoch 1/5\n",
      "1313/1313 [==============================] - 43s 32ms/step - loss: 0.2781 - accuracy: 0.9146\n",
      "Epoch 2/5\n",
      "1313/1313 [==============================] - 40s 30ms/step - loss: 0.0466 - accuracy: 0.9850\n",
      "Epoch 3/5\n",
      "1313/1313 [==============================] - 38s 29ms/step - loss: 0.0248 - accuracy: 0.9922\n",
      "Epoch 4/5\n",
      "1313/1313 [==============================] - 49s 37ms/step - loss: 0.0127 - accuracy: 0.9957\n",
      "Epoch 5/5\n",
      "1313/1313 [==============================] - 40s 31ms/step - loss: 0.0100 - accuracy: 0.9967\n"
     ]
    },
    {
     "data": {
      "text/plain": [
       "<tensorflow.python.keras.callbacks.History at 0x167c0d160>"
      ]
     },
     "execution_count": 9,
     "metadata": {},
     "output_type": "execute_result"
    }
   ],
   "source": [
    "model.fit(x=numbers, y = labels, epochs = 5, verbose = 1)"
   ]
  },
  {
   "cell_type": "code",
   "execution_count": 10,
   "metadata": {},
   "outputs": [],
   "source": [
    "predictions = model.predict_on_batch(test_numbers)"
   ]
  },
  {
   "cell_type": "markdown",
   "metadata": {},
   "source": [
    "# Save the prediction results to a csv"
   ]
  },
  {
   "cell_type": "code",
   "execution_count": 11,
   "metadata": {},
   "outputs": [],
   "source": [
    "i = 1\n",
    "guesses = []\n",
    "for arrays in predictions:\n",
    "    guesses.append([i,np.where([val == max(arrays) for val in arrays])[0][0]])\n",
    "    i+=1"
   ]
  },
  {
   "cell_type": "code",
   "execution_count": 12,
   "metadata": {},
   "outputs": [],
   "source": [
    "with open(\"submission.csv\", \"w\") as f:\n",
    "    writer = csv.writer(f)\n",
    "    writer.writerow([\"ImageId\",\"Label\"])\n",
    "    for values in guesses:\n",
    "        writer.writerow([values[0],values[1]])"
   ]
  }
 ],
 "metadata": {
  "kernelspec": {
   "display_name": "Python 3",
   "language": "python",
   "name": "python3"
  },
  "language_info": {
   "codemirror_mode": {
    "name": "ipython",
    "version": 3
   },
   "file_extension": ".py",
   "mimetype": "text/x-python",
   "name": "python",
   "nbconvert_exporter": "python",
   "pygments_lexer": "ipython3",
   "version": "3.8.5"
  }
 },
 "nbformat": 4,
 "nbformat_minor": 4
}
